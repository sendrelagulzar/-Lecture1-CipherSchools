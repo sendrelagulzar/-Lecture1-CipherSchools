{
 "cells": [
  {
   "cell_type": "markdown",
   "id": "12152ff6",
   "metadata": {},
   "source": [
    "# Indentation\n",
    "block format(tabs)"
   ]
  },
  {
   "cell_type": "code",
   "execution_count": 2,
   "id": "59c3a534",
   "metadata": {},
   "outputs": [
    {
     "name": "stdout",
     "output_type": "stream",
     "text": [
      "End\n"
     ]
    }
   ],
   "source": [
    "a=10\n",
    "b=20\n",
    "if a == b:\n",
    "    print(\"eqaual\")\n",
    "print(\"End\")"
   ]
  },
  {
   "cell_type": "code",
   "execution_count": 12,
   "id": "a5296f76",
   "metadata": {},
   "outputs": [
    {
     "name": "stdout",
     "output_type": "stream",
     "text": [
      "true\n",
      "you\n"
     ]
    }
   ],
   "source": [
    "n=10\n",
    "if n:\n",
    "    print(\"true\") # python treat every non-zero and 'None' value true\n",
    "print(\"you\")"
   ]
  },
  {
   "cell_type": "code",
   "execution_count": 13,
   "id": "6144ff26",
   "metadata": {},
   "outputs": [
    {
     "name": "stdout",
     "output_type": "stream",
     "text": [
      "false\n",
      "you\n"
     ]
    }
   ],
   "source": [
    "n=None\n",
    "if(n):\n",
    "    print(\"true\")\n",
    "else:\n",
    "    print(\"false\")\n",
    "print(\"you\")"
   ]
  },
  {
   "cell_type": "code",
   "execution_count": 22,
   "id": "a7eaaac2",
   "metadata": {},
   "outputs": [
    {
     "name": "stdout",
     "output_type": "stream",
     "text": [
      "0\n"
     ]
    }
   ],
   "source": [
    "n=0\n",
    "if n>0:\n",
    "    print(\"+ve\")\n",
    "elif(n == 0):\n",
    "    print(\"0\")\n",
    "else:\n",
    "    print(\"-ve\")"
   ]
  },
  {
   "cell_type": "markdown",
   "id": "b96dd664",
   "metadata": {},
   "source": [
    "# Nested if-else"
   ]
  },
  {
   "cell_type": "code",
   "execution_count": 23,
   "id": "64f75fc4",
   "metadata": {},
   "outputs": [
    {
     "name": "stdout",
     "output_type": "stream",
     "text": [
      "0\n"
     ]
    }
   ],
   "source": [
    "n=0\n",
    "if n>=0:\n",
    "    if(n==0):\n",
    "        print(\"0\")\n",
    "    else:\n",
    "        print(\"+ve\")\n",
    "else:\n",
    "    print(\"-ve\")"
   ]
  },
  {
   "cell_type": "code",
   "execution_count": null,
   "id": "9a9ccc37",
   "metadata": {},
   "outputs": [],
   "source": []
  }
 ],
 "metadata": {
  "kernelspec": {
   "display_name": "Python 3 (ipykernel)",
   "language": "python",
   "name": "python3"
  },
  "language_info": {
   "codemirror_mode": {
    "name": "ipython",
    "version": 3
   },
   "file_extension": ".py",
   "mimetype": "text/x-python",
   "name": "python",
   "nbconvert_exporter": "python",
   "pygments_lexer": "ipython3",
   "version": "3.10.9"
  }
 },
 "nbformat": 4,
 "nbformat_minor": 5
}
