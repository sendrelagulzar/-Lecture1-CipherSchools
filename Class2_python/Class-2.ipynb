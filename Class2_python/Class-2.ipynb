{
 "cells": [
  {
   "cell_type": "markdown",
   "id": "4447dc39",
   "metadata": {},
   "source": [
    "Que 1> print hello world"
   ]
  },
  {
   "cell_type": "code",
   "execution_count": 3,
   "id": "bb90e96f",
   "metadata": {},
   "outputs": [
    {
     "name": "stdout",
     "output_type": "stream",
     "text": [
      "Hello World!\n"
     ]
    }
   ],
   "source": [
    "print(\"Hello World!\")"
   ]
  },
  {
   "cell_type": "markdown",
   "id": "937f6717",
   "metadata": {},
   "source": [
    "Que 2> add 2 numbers?"
   ]
  },
  {
   "cell_type": "code",
   "execution_count": 4,
   "id": "f6e53e0c",
   "metadata": {},
   "outputs": [
    {
     "data": {
      "text/plain": [
       "110"
      ]
     },
     "execution_count": 4,
     "metadata": {},
     "output_type": "execute_result"
    }
   ],
   "source": [
    "30+80"
   ]
  },
  {
   "cell_type": "code",
   "execution_count": null,
   "id": "45f00016",
   "metadata": {},
   "outputs": [],
   "source": []
  }
 ],
 "metadata": {
  "kernelspec": {
   "display_name": "Python 3 (ipykernel)",
   "language": "python",
   "name": "python3"
  },
  "language_info": {
   "codemirror_mode": {
    "name": "ipython",
    "version": 3
   },
   "file_extension": ".py",
   "mimetype": "text/x-python",
   "name": "python",
   "nbconvert_exporter": "python",
   "pygments_lexer": "ipython3",
   "version": "3.10.9"
  }
 },
 "nbformat": 4,
 "nbformat_minor": 5
}
