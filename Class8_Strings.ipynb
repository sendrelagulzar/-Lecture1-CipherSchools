{
 "cells": [
  {
   "cell_type": "markdown",
   "id": "65192789",
   "metadata": {},
   "source": [
    "# Strings"
   ]
  },
  {
   "cell_type": "code",
   "execution_count": 20,
   "id": "ce55b0ca",
   "metadata": {},
   "outputs": [
    {
     "name": "stdout",
     "output_type": "stream",
     "text": [
      "<class 'str'>\n",
      "13\n"
     ]
    }
   ],
   "source": [
    "s=\"I love Python\"\n",
    "print(type(s))\n",
    "print(len(s))"
   ]
  },
  {
   "cell_type": "code",
   "execution_count": 21,
   "id": "6fd39668",
   "metadata": {},
   "outputs": [
    {
     "name": "stdout",
     "output_type": "stream",
     "text": [
      "e\n",
      "y\n",
      "hey there\n",
      "hey 10\n"
     ]
    }
   ],
   "source": [
    "w='hey'\n",
    "print(w[1])\n",
    "print(w[-1])\n",
    "print(w+\" there\")\n",
    "print(w,10)"
   ]
  },
  {
   "cell_type": "code",
   "execution_count": 22,
   "id": "8688081a",
   "metadata": {},
   "outputs": [
    {
     "name": "stdout",
     "output_type": "stream",
     "text": [
      "          I LOVE PYTHON              \n",
      "          i love python              \n",
      "I love Python\n"
     ]
    }
   ],
   "source": [
    "st=\"          I love Python              \"\n",
    "print(st.upper())\n",
    "print(st.lower())\n",
    "print(st.strip()) #delete extra whitespaces not necessary one"
   ]
  },
  {
   "cell_type": "code",
   "execution_count": 27,
   "id": "b5ec9866",
   "metadata": {},
   "outputs": [
    {
     "name": "stdout",
     "output_type": "stream",
     "text": [
      "2\n",
      "-1\n",
      "I am in love with Python!\n"
     ]
    }
   ],
   "source": [
    "s='I love Python!'\n",
    "print(s.find('love'))\n",
    "print(s.find('you'))\n",
    "s=s.replace('love', 'am in love with')\n",
    "print(s)\n"
   ]
  },
  {
   "cell_type": "code",
   "execution_count": 28,
   "id": "52ce569a",
   "metadata": {},
   "outputs": [
    {
     "name": "stdout",
     "output_type": "stream",
     "text": [
      "['I', 'am', 'in', 'love', 'with', 'Python!']\n",
      "<class 'list'>\n"
     ]
    }
   ],
   "source": [
    "#make string to list\n",
    "sSplit=(s.split(' '))\n",
    "print(sSplit)\n",
    "print(type(sSplit))"
   ]
  },
  {
   "cell_type": "code",
   "execution_count": 31,
   "id": "f5002ac2",
   "metadata": {},
   "outputs": [
    {
     "name": "stdout",
     "output_type": "stream",
     "text": [
      "I am in love with Python!\n",
      "<class 'str'>\n"
     ]
    }
   ],
   "source": [
    "#make list to string\n",
    "sjoin=' '.join(sSplit)\n",
    "print(sjoin)\n",
    "print(type(sjoin))"
   ]
  },
  {
   "cell_type": "code",
   "execution_count": 39,
   "id": "7f907fae",
   "metadata": {},
   "outputs": [
    {
     "name": "stdout",
     "output_type": "stream",
     "text": [
      "h\n",
      "Ia nlv ihPto!\n",
      "I am i\n",
      "Pyth\n",
      "!nohtyP htiw evol ni ma I\n"
     ]
    }
   ],
   "source": [
    "#slicing\n",
    "print(s[-9])\n",
    "print(s[::2])\n",
    "print(s[:6])\n",
    "print(s[-7:-3])\n",
    "print(s[::-1])"
   ]
  },
  {
   "cell_type": "code",
   "execution_count": null,
   "id": "e0ed3b28",
   "metadata": {},
   "outputs": [],
   "source": []
  }
 ],
 "metadata": {
  "kernelspec": {
   "display_name": "Python 3 (ipykernel)",
   "language": "python",
   "name": "python3"
  },
  "language_info": {
   "codemirror_mode": {
    "name": "ipython",
    "version": 3
   },
   "file_extension": ".py",
   "mimetype": "text/x-python",
   "name": "python",
   "nbconvert_exporter": "python",
   "pygments_lexer": "ipython3",
   "version": "3.10.9"
  }
 },
 "nbformat": 4,
 "nbformat_minor": 5
}
