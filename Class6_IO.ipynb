{
 "cells": [
  {
   "cell_type": "code",
   "execution_count": 3,
   "id": "f62f2e29",
   "metadata": {},
   "outputs": [
    {
     "name": "stdout",
     "output_type": "stream",
     "text": [
      "Kindly enter a number56\n"
     ]
    },
    {
     "data": {
      "text/plain": [
       "'56'"
      ]
     },
     "execution_count": 3,
     "metadata": {},
     "output_type": "execute_result"
    }
   ],
   "source": [
    "input(\"Kindly enter a number\")"
   ]
  },
  {
   "cell_type": "code",
   "execution_count": 1,
   "id": "9b2a5a24",
   "metadata": {},
   "outputs": [
    {
     "name": "stdout",
     "output_type": "stream",
     "text": [
      "67\n"
     ]
    }
   ],
   "source": [
    "a=input()\n"
   ]
  },
  {
   "cell_type": "code",
   "execution_count": 2,
   "id": "537c25cc",
   "metadata": {},
   "outputs": [
    {
     "name": "stdout",
     "output_type": "stream",
     "text": [
      "<class 'str'>\n"
     ]
    }
   ],
   "source": [
    "print(type(a))"
   ]
  },
  {
   "cell_type": "markdown",
   "id": "6b1c8639",
   "metadata": {},
   "source": [
    "#WAP to enter and add 2 number"
   ]
  },
  {
   "cell_type": "code",
   "execution_count": 1,
   "id": "f2fb644b",
   "metadata": {},
   "outputs": [
    {
     "name": "stdout",
     "output_type": "stream",
     "text": [
      "2\n",
      "3\n",
      "5\n"
     ]
    }
   ],
   "source": [
    "a= int(input())\n",
    "b= int(input())\n",
    "print(a+b)"
   ]
  },
  {
   "cell_type": "code",
   "execution_count": 3,
   "id": "3767e5ca",
   "metadata": {},
   "outputs": [
    {
     "name": "stdout",
     "output_type": "stream",
     "text": [
      "2\n",
      "2\n"
     ]
    }
   ],
   "source": [
    "print(a)\n",
    "print('%d' %(a))"
   ]
  },
  {
   "cell_type": "code",
   "execution_count": 4,
   "id": "c211e411",
   "metadata": {},
   "outputs": [
    {
     "name": "stdout",
     "output_type": "stream",
     "text": [
      "Please Enter a Number: 45678\n",
      "You have recived 45678 number of gifts\n"
     ]
    }
   ],
   "source": [
    "num=int(input(\"Please Enter a Number: \"))\n",
    "print(\"You have recived %d number of gifts\" %num)"
   ]
  },
  {
   "cell_type": "code",
   "execution_count": 7,
   "id": "3f9a5faf",
   "metadata": {},
   "outputs": [
    {
     "name": "stdout",
     "output_type": "stream",
     "text": [
      "2 3 45678\n",
      "number are 2 ,3 and 45678\n",
      "2 3 45678\n",
      "45678 2 3\n"
     ]
    }
   ],
   "source": [
    "print(a,b,num)\n",
    "print('number are %d ,%d and %d'%(a,b,num))\n",
    "print('{0} {1} {2}'.format(a,b,num))\n",
    "print('{2} {0} {1}'.format(a,b,num))\n"
   ]
  },
  {
   "cell_type": "code",
   "execution_count": 8,
   "id": "1dc5f57f",
   "metadata": {},
   "outputs": [
    {
     "name": "stdout",
     "output_type": "stream",
     "text": [
      "565656565656\n"
     ]
    }
   ],
   "source": [
    "print(\"56\"*6)"
   ]
  },
  {
   "cell_type": "code",
   "execution_count": 9,
   "id": "85c7191d",
   "metadata": {},
   "outputs": [
    {
     "name": "stdout",
     "output_type": "stream",
     "text": [
      "Python 1 2\n"
     ]
    }
   ],
   "source": [
    "print('Python', 1,2)"
   ]
  },
  {
   "cell_type": "code",
   "execution_count": 12,
   "id": "7384b1a3",
   "metadata": {},
   "outputs": [
    {
     "name": "stdout",
     "output_type": "stream",
     "text": [
      "Python, 1, 2 !"
     ]
    }
   ],
   "source": [
    "print('Python', 1,2,sep=\", \", end=\" !\")"
   ]
  },
  {
   "cell_type": "code",
   "execution_count": 13,
   "id": "6b8003b5",
   "metadata": {},
   "outputs": [
    {
     "name": "stdout",
     "output_type": "stream",
     "text": [
      "123\n"
     ]
    }
   ],
   "source": [
    "print(123)"
   ]
  },
  {
   "cell_type": "code",
   "execution_count": 14,
   "id": "d0d2df12",
   "metadata": {},
   "outputs": [
    {
     "name": "stdout",
     "output_type": "stream",
     "text": [
      "Ram said, \"hey, I won't be commin' tonight\", so I am sad\n"
     ]
    }
   ],
   "source": [
    "print('''Ram said, \"hey, I won't be commin' tonight\", so I am sad''' )"
   ]
  },
  {
   "cell_type": "code",
   "execution_count": null,
   "id": "b521b7c5",
   "metadata": {},
   "outputs": [],
   "source": []
  }
 ],
 "metadata": {
  "kernelspec": {
   "display_name": "Python 3 (ipykernel)",
   "language": "python",
   "name": "python3"
  },
  "language_info": {
   "codemirror_mode": {
    "name": "ipython",
    "version": 3
   },
   "file_extension": ".py",
   "mimetype": "text/x-python",
   "name": "python",
   "nbconvert_exporter": "python",
   "pygments_lexer": "ipython3",
   "version": "3.10.9"
  }
 },
 "nbformat": 4,
 "nbformat_minor": 5
}
