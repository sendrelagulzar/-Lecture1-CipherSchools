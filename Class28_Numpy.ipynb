{
 "cells": [
  {
   "cell_type": "markdown",
   "id": "fd8d7c7f",
   "metadata": {},
   "source": [
    "# Numpy\n",
    "\n",
    "Most powerful numerical processing library in python. Array Oriented computing.\n",
    "\n",
    "Provides extension package to python for multi dimensional array\n",
    "\n",
    "Very efficient.\n",
    "\n",
    "Scientific computation"
   ]
  },
  {
   "cell_type": "code",
   "execution_count": null,
   "id": "1e6d0866",
   "metadata": {},
   "outputs": [],
   "source": [
    "!pip install numpy"
   ]
  },
  {
   "cell_type": "code",
   "execution_count": 3,
   "id": "2d963daa",
   "metadata": {},
   "outputs": [],
   "source": [
    "import numpy as np\n"
   ]
  },
  {
   "cell_type": "code",
   "execution_count": 4,
   "id": "9b0e4054",
   "metadata": {},
   "outputs": [
    {
     "name": "stdout",
     "output_type": "stream",
     "text": [
      "[2 7 4 8]\n",
      "<class 'numpy.ndarray'>\n"
     ]
    }
   ],
   "source": [
    "arr=np.array([2,7,4,8])\n",
    "print(arr)\n",
    "print(type(arr))"
   ]
  },
  {
   "cell_type": "code",
   "execution_count": 5,
   "id": "7e8d9a1f",
   "metadata": {},
   "outputs": [
    {
     "name": "stdout",
     "output_type": "stream",
     "text": [
      "[0 1 2 3 4 5 6 7 8 9]\n",
      "<class 'numpy.ndarray'>\n"
     ]
    }
   ],
   "source": [
    "arr=np.arange(10)\n",
    "print(arr)\n",
    "print(type(arr))"
   ]
  },
  {
   "cell_type": "markdown",
   "id": "e15d0d9a",
   "metadata": {},
   "source": [
    "Advantage of Numpy Array over List "
   ]
  },
  {
   "cell_type": "code",
   "execution_count": 6,
   "id": "7ccfa26a",
   "metadata": {},
   "outputs": [
    {
     "name": "stdout",
     "output_type": "stream",
     "text": [
      "CPU times: total: 6.08 s\n",
      "Wall time: 6.38 s\n"
     ]
    }
   ],
   "source": [
    "%%time\n",
    "l=list(range(10000000))\n",
    "for i in range(10000000):\n",
    "    l[i]*=l[i]"
   ]
  },
  {
   "cell_type": "code",
   "execution_count": 7,
   "id": "cc136825",
   "metadata": {},
   "outputs": [
    {
     "name": "stdout",
     "output_type": "stream",
     "text": [
      "CPU times: total: 62.5 ms\n",
      "Wall time: 122 ms\n"
     ]
    }
   ],
   "source": [
    "%%time\n",
    "arr=np.arange(10000000)\n",
    "arr*=arr"
   ]
  },
  {
   "cell_type": "markdown",
   "id": "47d1713c",
   "metadata": {},
   "source": [
    "## Creating numpy array"
   ]
  },
  {
   "cell_type": "code",
   "execution_count": 8,
   "id": "ad4b39fd",
   "metadata": {},
   "outputs": [
    {
     "name": "stdout",
     "output_type": "stream",
     "text": [
      "[1 2 3 4]\n",
      "1\n",
      "(4,)\n",
      "4\n",
      "int32\n",
      "4\n"
     ]
    }
   ],
   "source": [
    "arr=np.array([1,2,3,4])\n",
    "print(arr)\n",
    "print(arr.ndim)#array dimension\n",
    "print(arr.shape)#array shape\n",
    "print(len(arr))\n",
    "print(arr.dtype)#array item data type\n",
    "print(arr.itemsize)#array item size"
   ]
  },
  {
   "cell_type": "code",
   "execution_count": 9,
   "id": "3118ea93",
   "metadata": {},
   "outputs": [
    {
     "name": "stdout",
     "output_type": "stream",
     "text": [
      "[[1 2 3]\n",
      " [5 6 7]]\n",
      "2\n",
      "(2, 3)\n",
      "2\n",
      "int32\n",
      "4\n",
      "[1 6]\n"
     ]
    }
   ],
   "source": [
    "arr=np.array([[1,2,3],[5,6,7]])\n",
    "print(arr)\n",
    "print(arr.ndim)#array dimension\n",
    "print(arr.shape)#array shape\n",
    "print(len(arr))\n",
    "print(arr.dtype)#array item data type\n",
    "print(arr.itemsize)#array item size\n",
    "print(np.diag(arr)) #return the diagonal elements"
   ]
  },
  {
   "cell_type": "code",
   "execution_count": 10,
   "id": "54320b88",
   "metadata": {},
   "outputs": [
    {
     "data": {
      "text/plain": [
       "array([[1., 1., 1.],\n",
       "       [1., 1., 1.],\n",
       "       [1., 1., 1.]])"
      ]
     },
     "execution_count": 10,
     "metadata": {},
     "output_type": "execute_result"
    }
   ],
   "source": [
    "arr=np.ones((3,3))\n",
    "arr"
   ]
  },
  {
   "cell_type": "code",
   "execution_count": 11,
   "id": "07734174",
   "metadata": {},
   "outputs": [
    {
     "data": {
      "text/plain": [
       "array([[0., 0., 0.],\n",
       "       [0., 0., 0.],\n",
       "       [0., 0., 0.]])"
      ]
     },
     "execution_count": 11,
     "metadata": {},
     "output_type": "execute_result"
    }
   ],
   "source": [
    "arr=np.zeros((3,3))\n",
    "arr"
   ]
  },
  {
   "cell_type": "code",
   "execution_count": 12,
   "id": "3156e1c3",
   "metadata": {},
   "outputs": [
    {
     "data": {
      "text/plain": [
       "array([[1., 0., 0.],\n",
       "       [0., 1., 0.],\n",
       "       [0., 0., 1.]])"
      ]
     },
     "execution_count": 12,
     "metadata": {},
     "output_type": "execute_result"
    }
   ],
   "source": [
    "arr=np.eye(3) #identity Matrix\n",
    "arr"
   ]
  },
  {
   "cell_type": "code",
   "execution_count": 13,
   "id": "6a9b7a11",
   "metadata": {},
   "outputs": [
    {
     "data": {
      "text/plain": [
       "array([[1., 0., 0.],\n",
       "       [0., 1., 0.],\n",
       "       [0., 0., 1.],\n",
       "       [0., 0., 0.],\n",
       "       [0., 0., 0.]])"
      ]
     },
     "execution_count": 13,
     "metadata": {},
     "output_type": "execute_result"
    }
   ],
   "source": [
    "arr=np.eye(5,3)\n",
    "arr"
   ]
  },
  {
   "cell_type": "code",
   "execution_count": 14,
   "id": "576cf662",
   "metadata": {},
   "outputs": [
    {
     "data": {
      "text/plain": [
       "array([ 2,  3,  4,  5,  6,  7,  8,  9, 10])"
      ]
     },
     "execution_count": 14,
     "metadata": {},
     "output_type": "execute_result"
    }
   ],
   "source": [
    "arr=np.arange(2,11)\n",
    "arr"
   ]
  },
  {
   "cell_type": "code",
   "execution_count": 15,
   "id": "091a2ef6",
   "metadata": {},
   "outputs": [
    {
     "data": {
      "text/plain": [
       "array([ 2,  4,  6,  8, 10])"
      ]
     },
     "execution_count": 15,
     "metadata": {},
     "output_type": "execute_result"
    }
   ],
   "source": [
    "arr=np.arange(2,11,2) #arange(start,end, incement/decrement)\n",
    "arr"
   ]
  },
  {
   "cell_type": "code",
   "execution_count": 16,
   "id": "99a5191d",
   "metadata": {},
   "outputs": [
    {
     "data": {
      "text/plain": [
       "array([[0.64779177, 0.14474085],\n",
       "       [0.80834731, 0.0367874 ],\n",
       "       [0.90580094, 0.61896762],\n",
       "       [0.31177384, 0.53036289],\n",
       "       [0.33732058, 0.75304971]])"
      ]
     },
     "execution_count": 16,
     "metadata": {},
     "output_type": "execute_result"
    }
   ],
   "source": [
    "arr=np.random.random((5,2))#get any num b/w 0-1 not inclusive  in 5X2 matrix\n",
    "arr"
   ]
  },
  {
   "cell_type": "code",
   "execution_count": 17,
   "id": "0d158f17",
   "metadata": {},
   "outputs": [
    {
     "data": {
      "text/plain": [
       "array([5, 7, 7, 5, 6, 3, 2, 3, 7, 4, 8, 2, 1, 8, 9, 4, 4, 7, 5, 8])"
      ]
     },
     "execution_count": 17,
     "metadata": {},
     "output_type": "execute_result"
    }
   ],
   "source": [
    "arr=np.random.randint(1,10,20)# b/w 1-9 inclusive get 20 vals\n",
    "arr"
   ]
  },
  {
   "cell_type": "markdown",
   "id": "2cb846d1",
   "metadata": {},
   "source": [
    "# NUmpy Indexing"
   ]
  },
  {
   "cell_type": "code",
   "execution_count": 18,
   "id": "bf53c8ab",
   "metadata": {},
   "outputs": [
    {
     "data": {
      "text/plain": [
       "array([ 0,  3,  6,  9, 12, 15, 18, 21, 24, 27])"
      ]
     },
     "execution_count": 18,
     "metadata": {},
     "output_type": "execute_result"
    }
   ],
   "source": [
    "arr= 3 * np.arange(10)\n",
    "arr"
   ]
  },
  {
   "cell_type": "code",
   "execution_count": 19,
   "id": "19e5ecbe",
   "metadata": {},
   "outputs": [
    {
     "data": {
      "text/plain": [
       "6"
      ]
     },
     "execution_count": 19,
     "metadata": {},
     "output_type": "execute_result"
    }
   ],
   "source": [
    "arr[2]"
   ]
  },
  {
   "cell_type": "code",
   "execution_count": 20,
   "id": "1cef3a42",
   "metadata": {},
   "outputs": [
    {
     "name": "stdout",
     "output_type": "stream",
     "text": [
      "7\n"
     ]
    }
   ],
   "source": [
    "arr=np.array([[1,2,3],[5,6,7]])\n",
    "print(arr[1,2])"
   ]
  },
  {
   "cell_type": "code",
   "execution_count": 21,
   "id": "e50d9ab1",
   "metadata": {},
   "outputs": [
    {
     "data": {
      "text/plain": [
       "array([[  1,   2,   3],\n",
       "       [  5,   6, 999]])"
      ]
     },
     "execution_count": 21,
     "metadata": {},
     "output_type": "execute_result"
    }
   ],
   "source": [
    "arr[1,2]=999\n",
    "arr"
   ]
  },
  {
   "cell_type": "markdown",
   "id": "976f31ea",
   "metadata": {},
   "source": [
    "# Numpy Slicing"
   ]
  },
  {
   "cell_type": "code",
   "execution_count": 22,
   "id": "8a4ba999",
   "metadata": {},
   "outputs": [
    {
     "name": "stdout",
     "output_type": "stream",
     "text": [
      "[ 0  1  2  3  4  5  6  7  8  9 10]\n",
      "[ 0  2  4  6  8 10]\n",
      "[1 2 3]\n",
      "[0 1 2 3 4 5 6]\n"
     ]
    }
   ],
   "source": [
    "arr=np.arange(11)\n",
    "print(arr)\n",
    "print(arr[::2])\n",
    "print(arr[1:4])\n",
    "print(arr[0:-4])"
   ]
  },
  {
   "cell_type": "code",
   "execution_count": 23,
   "id": "37e99572",
   "metadata": {},
   "outputs": [
    {
     "name": "stdout",
     "output_type": "stream",
     "text": [
      "[[ 1  2  3  4  5]\n",
      " [ 6  7  8  9 10]\n",
      " [11 12 13 14 15]]\n",
      "[[2 3]\n",
      " [7 8]]\n"
     ]
    }
   ],
   "source": [
    "arr=np.array([[1,2,3,4,5],[6,7,8,9,10],[11,12,13,14,15]])\n",
    "print(arr)\n",
    "print(arr[:2,1:3])"
   ]
  },
  {
   "cell_type": "code",
   "execution_count": 24,
   "id": "a21f1208",
   "metadata": {},
   "outputs": [
    {
     "name": "stdout",
     "output_type": "stream",
     "text": [
      "[[ 1  2  3  4  5]\n",
      " [ 6  7  8  9 10]]\n"
     ]
    }
   ],
   "source": [
    "print(arr[0:2,:])"
   ]
  },
  {
   "cell_type": "code",
   "execution_count": 26,
   "id": "50ae6507",
   "metadata": {},
   "outputs": [
    {
     "name": "stdout",
     "output_type": "stream",
     "text": [
      "[[ 1  2  3  4  5]\n",
      " [ 6  7  8  9 10]\n",
      " [11 12 13 14 15]]\n",
      "12\n",
      "[ 1  7 11]\n"
     ]
    }
   ],
   "source": [
    "print(arr)\n",
    "print(arr[2,1])#arr[r,c]\n",
    "print(arr[[0,1,2],[0,1,0]])#arr[[r1,r2,r3],[c1,c2,c3]]"
   ]
  },
  {
   "cell_type": "markdown",
   "id": "794cc0b1",
   "metadata": {},
   "source": [
    "# Numpy Maths"
   ]
  },
  {
   "cell_type": "code",
   "execution_count": 32,
   "id": "292d6553",
   "metadata": {},
   "outputs": [
    {
     "name": "stdout",
     "output_type": "stream",
     "text": [
      "[[1 2]\n",
      " [3 4]]\n",
      "[[5 6]\n",
      " [7 8]]\n",
      "****************************************\n",
      "[[ 6  8]\n",
      " [10 12]]\n",
      "****************************************\n",
      "[[-4 -4]\n",
      " [-4 -4]]\n",
      "****************************************\n",
      "[[ 5 12]\n",
      " [21 32]]\n",
      "****************************************\n",
      "[[0.2        0.33333333]\n",
      " [0.42857143 0.5       ]]\n"
     ]
    }
   ],
   "source": [
    "#element wise operation\n",
    "x=np.array([[1,2],[3,4]])\n",
    "y=np.array([[5,6],[7,8]])\n",
    "print(x)\n",
    "print(y)\n",
    "print('*'*40)\n",
    "print(np.add(x,y))\n",
    "print('*'*40)\n",
    "print(np.subtract(x,y))\n",
    "print('*'*40)\n",
    "print(np.multiply(x,y))\n",
    "print('*'*40)\n",
    "print(np.divide(x,y))"
   ]
  },
  {
   "cell_type": "code",
   "execution_count": 34,
   "id": "02a22c58",
   "metadata": {},
   "outputs": [
    {
     "name": "stdout",
     "output_type": "stream",
     "text": [
      "[[19 22]\n",
      " [43 50]]\n",
      "****************************************\n",
      "[[19 22]\n",
      " [43 50]]\n"
     ]
    }
   ],
   "source": [
    "#Matrix Multiplication\n",
    "print(np.matmul(x,y))\n",
    "#Dot product(both are same)\n",
    "print('*'*40)\n",
    "print(np.dot(x,y))"
   ]
  },
  {
   "cell_type": "code",
   "execution_count": 37,
   "id": "dad7572a",
   "metadata": {},
   "outputs": [
    {
     "name": "stdout",
     "output_type": "stream",
     "text": [
      "[[1 2]\n",
      " [3 4]]\n",
      "****************************************\n",
      "10\n",
      "****************************************\n",
      "[4 6]\n",
      "****************************************\n",
      "[3 7]\n"
     ]
    }
   ],
   "source": [
    "print(x)\n",
    "print('*'*40)\n",
    "print(np.sum(x))\n",
    "print('*'*40)\n",
    "print(np.sum(x,axis=0)) # column wise addition\n",
    "print('*'*40)\n",
    "print(np.sum(x,axis=1)) #row wise Addition"
   ]
  },
  {
   "cell_type": "code",
   "execution_count": 38,
   "id": "f5c57d78",
   "metadata": {},
   "outputs": [
    {
     "name": "stdout",
     "output_type": "stream",
     "text": [
      "4\n",
      "1\n"
     ]
    }
   ],
   "source": [
    "print(np.max(x))#retun max element\n",
    "print(np.min(x))#retun min element"
   ]
  },
  {
   "cell_type": "code",
   "execution_count": 41,
   "id": "1420e70a",
   "metadata": {},
   "outputs": [
    {
     "name": "stdout",
     "output_type": "stream",
     "text": [
      "[[1 2]\n",
      " [3 4]]\n",
      "****************************************\n",
      "[[1 3]\n",
      " [2 4]]\n"
     ]
    }
   ],
   "source": [
    "print(x)\n",
    "print('*'*40)\n",
    "print(x.T) # transpose matrix"
   ]
  },
  {
   "cell_type": "code",
   "execution_count": 42,
   "id": "009822d0",
   "metadata": {},
   "outputs": [
    {
     "name": "stdout",
     "output_type": "stream",
     "text": [
      "2.718281828459045\n",
      "7.38905609893065\n"
     ]
    }
   ],
   "source": [
    "#exponential function\n",
    "print(np.exp(1))\n",
    "print(np.exp(2))"
   ]
  },
  {
   "cell_type": "markdown",
   "id": "57c890a4",
   "metadata": {},
   "source": [
    "# Numpy Statistics"
   ]
  },
  {
   "cell_type": "code",
   "execution_count": 49,
   "id": "06f3ebf9",
   "metadata": {},
   "outputs": [
    {
     "name": "stdout",
     "output_type": "stream",
     "text": [
      "289\n",
      "156\n",
      "201.16666666666666\n",
      "187.5\n",
      "2177.138888888889\n",
      "46.65982092645544\n"
     ]
    }
   ],
   "source": [
    "height=np.array([186,156,289,156,231,189])\n",
    "\n",
    "print(np.max(height))\n",
    "print(np.min(height))\n",
    "print(np.mean(height))\n",
    "print(np.median(height))\n",
    "#print(np.mode(height))\n",
    "print(np.var(height))\n",
    "print(np.std(height))"
   ]
  },
  {
   "cell_type": "code",
   "execution_count": 53,
   "id": "aaf2cc62",
   "metadata": {},
   "outputs": [
    {
     "name": "stdout",
     "output_type": "stream",
     "text": [
      "[[1.         0.98382722]\n",
      " [0.98382722 1.        ]]\n"
     ]
    }
   ],
   "source": [
    "# Correlation Coefficient b/w height and weight\n",
    "height=np.array([175, 163, 182, 168, 160, 178, 171, 185, 158, 176])\n",
    "weight=np.array([68, 52, 79, 61, 55, 71, 66, 84, 49, 72])\n",
    "print(np.corrcoef(height,weight))"
   ]
  },
  {
   "cell_type": "code",
   "execution_count": 55,
   "id": "3a2966c5",
   "metadata": {},
   "outputs": [
    {
     "name": "stdout",
     "output_type": "stream",
     "text": [
      "0.9838272216674189\n"
     ]
    }
   ],
   "source": [
    "person=np.corrcoef(height,weight)\n",
    "\n",
    "print(person[0,1])"
   ]
  },
  {
   "cell_type": "code",
   "execution_count": null,
   "id": "0ebaf98a",
   "metadata": {},
   "outputs": [],
   "source": []
  }
 ],
 "metadata": {
  "kernelspec": {
   "display_name": "Python 3 (ipykernel)",
   "language": "python",
   "name": "python3"
  },
  "language_info": {
   "codemirror_mode": {
    "name": "ipython",
    "version": 3
   },
   "file_extension": ".py",
   "mimetype": "text/x-python",
   "name": "python",
   "nbconvert_exporter": "python",
   "pygments_lexer": "ipython3",
   "version": "3.10.12"
  }
 },
 "nbformat": 4,
 "nbformat_minor": 5
}
