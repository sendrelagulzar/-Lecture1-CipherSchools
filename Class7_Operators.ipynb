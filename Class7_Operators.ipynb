{
 "cells": [
  {
   "cell_type": "markdown",
   "id": "94ed0a3b",
   "metadata": {},
   "source": [
    "\n",
    "# Operators\n"
   ]
  },
  {
   "cell_type": "markdown",
   "id": "d1dc9570",
   "metadata": {},
   "source": [
    "## Arithmetic Operator"
   ]
  },
  {
   "cell_type": "code",
   "execution_count": 6,
   "id": "edf5969c",
   "metadata": {},
   "outputs": [
    {
     "name": "stdout",
     "output_type": "stream",
     "text": [
      "a+b= 14\n",
      "6\n",
      "40\n",
      "2.5\n",
      "2\n",
      "2\n",
      "10000\n"
     ]
    }
   ],
   "source": [
    "a=10\n",
    "b=4\n",
    "print('a+b=',a+b)\n",
    "print(a-b)\n",
    "print(a*b)\n",
    "print(a/b)\n",
    "print(a%b)\n",
    "print(a//b)\n",
    "print(a**b)"
   ]
  },
  {
   "cell_type": "markdown",
   "id": "1ed3fac9",
   "metadata": {},
   "source": [
    "# Relational operator"
   ]
  },
  {
   "cell_type": "code",
   "execution_count": 8,
   "id": "e2ff6d4c",
   "metadata": {},
   "outputs": [
    {
     "name": "stdout",
     "output_type": "stream",
     "text": [
      "False\n",
      "True\n",
      "False\n",
      "True\n"
     ]
    }
   ],
   "source": [
    "print(a<b)\n",
    "print(a>b)\n",
    "print(a<=b)\n",
    "print(a>=b)"
   ]
  },
  {
   "cell_type": "markdown",
   "id": "6e3ca99a",
   "metadata": {},
   "source": [
    "# Equality operator"
   ]
  },
  {
   "cell_type": "code",
   "execution_count": 9,
   "id": "8413b5fe",
   "metadata": {},
   "outputs": [
    {
     "name": "stdout",
     "output_type": "stream",
     "text": [
      "False\n",
      "True\n"
     ]
    }
   ],
   "source": [
    "print(a==b)\n",
    "print(a!=b)"
   ]
  },
  {
   "cell_type": "markdown",
   "id": "439c9ae0",
   "metadata": {},
   "source": [
    "# logical operator"
   ]
  },
  {
   "cell_type": "code",
   "execution_count": 11,
   "id": "3aa7d972",
   "metadata": {},
   "outputs": [
    {
     "name": "stdout",
     "output_type": "stream",
     "text": [
      "False\n",
      "True\n",
      "True\n"
     ]
    }
   ],
   "source": [
    "print(a<b and a>b)\n",
    "print(a<b or a>b)\n",
    "print(not( a<b and a>b))"
   ]
  },
  {
   "cell_type": "markdown",
   "id": "82ef6cd2",
   "metadata": {},
   "source": [
    "# bitwise\n",
    "& : bitwise and:\n",
    "| : bitwise or :\n",
    "^ : bitwise xor:\n",
    "~ : bitwise 2's compliment:"
   ]
  },
  {
   "cell_type": "code",
   "execution_count": 12,
   "id": "30b01a2f",
   "metadata": {},
   "outputs": [
    {
     "name": "stdout",
     "output_type": "stream",
     "text": [
      "0\n",
      "14\n",
      "14\n",
      "-11\n"
     ]
    }
   ],
   "source": [
    "print(a&b)\n",
    "print(a|b)\n",
    "print(a^b)\n",
    "print(~a)"
   ]
  },
  {
   "cell_type": "markdown",
   "id": "a7b37896",
   "metadata": {},
   "source": [
    "# shift operator"
   ]
  },
  {
   "cell_type": "code",
   "execution_count": 15,
   "id": "801a8eed",
   "metadata": {},
   "outputs": [
    {
     "name": "stdout",
     "output_type": "stream",
     "text": [
      "20\n",
      "5\n"
     ]
    }
   ],
   "source": [
    "print(a<<1)\n",
    "print(a>>1)"
   ]
  },
  {
   "cell_type": "markdown",
   "id": "730f6f84",
   "metadata": {},
   "source": [
    "# Assignment operator"
   ]
  },
  {
   "cell_type": "code",
   "execution_count": 16,
   "id": "0ba28d69",
   "metadata": {},
   "outputs": [
    {
     "name": "stdout",
     "output_type": "stream",
     "text": [
      "20\n"
     ]
    }
   ],
   "source": [
    "x=10\n",
    "x+=10\n",
    "print(x)"
   ]
  },
  {
   "cell_type": "code",
   "execution_count": 19,
   "id": "59c498a2",
   "metadata": {},
   "outputs": [
    {
     "name": "stdout",
     "output_type": "stream",
     "text": [
      "6\n",
      "5\n"
     ]
    }
   ],
   "source": [
    "x= 5 if(5>6) else 6\n",
    "y= 5 if(5<6) else 6\n",
    "print(x)\n",
    "print(y)"
   ]
  },
  {
   "cell_type": "markdown",
   "id": "b0d8127e",
   "metadata": {},
   "source": [
    "# Handson "
   ]
  },
  {
   "cell_type": "code",
   "execution_count": 21,
   "id": "1d27448c",
   "metadata": {},
   "outputs": [
    {
     "name": "stdout",
     "output_type": "stream",
     "text": [
      "6 5\n",
      "5 6\n"
     ]
    }
   ],
   "source": [
    "print(x,y)\n",
    "x,y=y,x\n",
    "print(x,y)"
   ]
  },
  {
   "cell_type": "code",
   "execution_count": 24,
   "id": "978412c2",
   "metadata": {},
   "outputs": [
    {
     "name": "stdout",
     "output_type": "stream",
     "text": [
      "Enter a number: 12\n",
      "Enter ith bit you want: 2\n",
      "1\n"
     ]
    }
   ],
   "source": [
    "#que: Get ith bit of a given number\n",
    "\n",
    "n=int(input(\"Enter a number: \"))\n",
    "i=int(input(\"Enter ith bit you want: \"))\n",
    "mask=1<<i\n",
    "print(1 if(n & mask >=1) else 0)"
   ]
  },
  {
   "cell_type": "code",
   "execution_count": 25,
   "id": "56106614",
   "metadata": {},
   "outputs": [
    {
     "name": "stdout",
     "output_type": "stream",
     "text": [
      "different digit is:  6\n"
     ]
    }
   ],
   "source": [
    "#Given 3 numbers, find the different number\n",
    "a,b,c=4,6,4\n",
    "print(\"different digit is: \", a^b^c)"
   ]
  },
  {
   "cell_type": "code",
   "execution_count": null,
   "id": "0bd81a69",
   "metadata": {},
   "outputs": [],
   "source": []
  }
 ],
 "metadata": {
  "kernelspec": {
   "display_name": "Python 3 (ipykernel)",
   "language": "python",
   "name": "python3"
  },
  "language_info": {
   "codemirror_mode": {
    "name": "ipython",
    "version": 3
   },
   "file_extension": ".py",
   "mimetype": "text/x-python",
   "name": "python",
   "nbconvert_exporter": "python",
   "pygments_lexer": "ipython3",
   "version": "3.10.9"
  }
 },
 "nbformat": 4,
 "nbformat_minor": 5
}
