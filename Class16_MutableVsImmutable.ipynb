{
 "cells": [
  {
   "cell_type": "markdown",
   "id": "bc40aabd",
   "metadata": {},
   "source": [
    "# Mutable vs Immutable\n",
    "Mutable: list,dict,set\n",
    "\n",
    "Immutable: int float,complex,string, tupple"
   ]
  },
  {
   "cell_type": "code",
   "execution_count": 1,
   "id": "1922f30e",
   "metadata": {},
   "outputs": [
    {
     "data": {
      "text/plain": [
       "'hi'"
      ]
     },
     "execution_count": 1,
     "metadata": {},
     "output_type": "execute_result"
    }
   ],
   "source": [
    "s='hi'\n",
    "s"
   ]
  },
  {
   "cell_type": "code",
   "execution_count": 2,
   "id": "a4de199f",
   "metadata": {},
   "outputs": [
    {
     "ename": "TypeError",
     "evalue": "'str' object does not support item assignment",
     "output_type": "error",
     "traceback": [
      "\u001b[1;31m---------------------------------------------------------------------------\u001b[0m",
      "\u001b[1;31mTypeError\u001b[0m                                 Traceback (most recent call last)",
      "Cell \u001b[1;32mIn[2], line 1\u001b[0m\n\u001b[1;32m----> 1\u001b[0m s[\u001b[38;5;241m1\u001b[39m]\u001b[38;5;241m=\u001b[39m\u001b[38;5;124m'\u001b[39m\u001b[38;5;124mI\u001b[39m\u001b[38;5;124m'\u001b[39m\n",
      "\u001b[1;31mTypeError\u001b[0m: 'str' object does not support item assignment"
     ]
    }
   ],
   "source": [
    "s[1]='I'"
   ]
  },
  {
   "cell_type": "code",
   "execution_count": 8,
   "id": "b19fb00c",
   "metadata": {},
   "outputs": [
    {
     "name": "stdout",
     "output_type": "stream",
     "text": [
      "2837047804240\n",
      "2837047804240\n",
      "2837047804304\n",
      "2837047804240\n"
     ]
    }
   ],
   "source": [
    "a=4\n",
    "b=4\n",
    "#sameaddress\n",
    "print(id(a))\n",
    "print(id(b))\n",
    "\n",
    "a=6\n",
    "\n",
    "print(id(a)) #will change when value change as its immutable\n",
    "print(id(b))"
   ]
  },
  {
   "cell_type": "code",
   "execution_count": 10,
   "id": "8db3fc93",
   "metadata": {},
   "outputs": [
    {
     "name": "stdout",
     "output_type": "stream",
     "text": [
      "2837057989616\n",
      "2837057989616\n",
      "2837161111792\n",
      "2837057989616\n"
     ]
    }
   ],
   "source": [
    "s='hi'\n",
    "s1='hi'\n",
    "print(id(s))\n",
    "print(id(s1))\n",
    "\n",
    "s='Hello'\n",
    "print(id(s))\n",
    "print(id(s1))"
   ]
  },
  {
   "cell_type": "code",
   "execution_count": 12,
   "id": "0f7a8ae6",
   "metadata": {},
   "outputs": [
    {
     "name": "stdout",
     "output_type": "stream",
     "text": [
      "2837133080192\n",
      "2837133079744\n"
     ]
    }
   ],
   "source": [
    "lst1=[1,2,3]\n",
    "lst2=[1,2,3]\n",
    "#mutable so differnt address\n",
    "print(id(lst1))\n",
    "print(id(lst2))"
   ]
  },
  {
   "cell_type": "code",
   "execution_count": 14,
   "id": "5b3d49e4",
   "metadata": {},
   "outputs": [
    {
     "name": "stdout",
     "output_type": "stream",
     "text": [
      "2837161544064\n",
      "2837161554496\n"
     ]
    }
   ],
   "source": [
    "tup1=(1,2,3)\n",
    "tup2=(1,2,3)\n",
    "#immutable so same address\n",
    "print(id(tup1))\n",
    "print(id(tup2))"
   ]
  },
  {
   "cell_type": "code",
   "execution_count": null,
   "id": "3b531087",
   "metadata": {},
   "outputs": [],
   "source": []
  }
 ],
 "metadata": {
  "kernelspec": {
   "display_name": "Python 3 (ipykernel)",
   "language": "python",
   "name": "python3"
  },
  "language_info": {
   "codemirror_mode": {
    "name": "ipython",
    "version": 3
   },
   "file_extension": ".py",
   "mimetype": "text/x-python",
   "name": "python",
   "nbconvert_exporter": "python",
   "pygments_lexer": "ipython3",
   "version": "3.10.9"
  }
 },
 "nbformat": 4,
 "nbformat_minor": 5
}
