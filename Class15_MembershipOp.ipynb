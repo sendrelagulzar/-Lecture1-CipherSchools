{
 "cells": [
  {
   "cell_type": "markdown",
   "id": "0cc7241e",
   "metadata": {},
   "source": [
    "# Membership Operators\n",
    "'in' and 'not in' "
   ]
  },
  {
   "cell_type": "code",
   "execution_count": 1,
   "id": "d785d0c1",
   "metadata": {},
   "outputs": [
    {
     "name": "stdout",
     "output_type": "stream",
     "text": [
      "False\n"
     ]
    }
   ],
   "source": [
    "l=[1,2,3,4]\n",
    "print(5 in l)"
   ]
  },
  {
   "cell_type": "code",
   "execution_count": 5,
   "id": "f90c1f08",
   "metadata": {},
   "outputs": [
    {
     "name": "stdout",
     "output_type": "stream",
     "text": [
      "False\n",
      "True\n"
     ]
    }
   ],
   "source": [
    "d={1:'a', 2:'b'}\n",
    "print('a' in d) # dict searches only key not values\n",
    "print(1 in d)"
   ]
  },
  {
   "cell_type": "code",
   "execution_count": 6,
   "id": "fea52426",
   "metadata": {},
   "outputs": [
    {
     "name": "stdout",
     "output_type": "stream",
     "text": [
      "False\n",
      "True\n"
     ]
    }
   ],
   "source": [
    "s='Python'\n",
    "print('p' in s) #is case sesitive\n",
    "print(\"P\" in s)"
   ]
  },
  {
   "cell_type": "markdown",
   "id": "b7a7668b",
   "metadata": {},
   "source": [
    "# for loop\n",
    "\n",
    "for loop uses  range function or membership op \n",
    "\n",
    "\n",
    "note:range(n)= 0,1,2...n-1"
   ]
  },
  {
   "cell_type": "code",
   "execution_count": 10,
   "id": "bdc20f25",
   "metadata": {},
   "outputs": [
    {
     "name": "stdout",
     "output_type": "stream",
     "text": [
      "in op:\n",
      "100\n",
      "200\n",
      "300\n",
      "400\n",
      "range fun:\n",
      "0 - 100\n",
      "1 - 200\n",
      "2 - 300\n",
      "3 - 400\n"
     ]
    }
   ],
   "source": [
    "l=[100,200,300,400]\n",
    "print(\"in op:\")\n",
    "for i in l:\n",
    "    print(i)\n",
    "    \n",
    "print(\"range fun:\")\n",
    "for i in range(len(l)):\n",
    "    print(i,'-',l[i])\n",
    "    "
   ]
  },
  {
   "cell_type": "code",
   "execution_count": 3,
   "id": "557a6963",
   "metadata": {},
   "outputs": [
    {
     "name": "stdout",
     "output_type": "stream",
     "text": [
      "1\n",
      "3\n",
      "5\n",
      "7\n",
      "9\n"
     ]
    }
   ],
   "source": [
    "for count in range(1,10,2): #list 1 to 9 with increment of 2\n",
    "    print(count)\n",
    "    "
   ]
  },
  {
   "cell_type": "markdown",
   "id": "bba34fd4",
   "metadata": {},
   "source": [
    "# for else"
   ]
  },
  {
   "cell_type": "code",
   "execution_count": 5,
   "id": "1f91e54c",
   "metadata": {},
   "outputs": [
    {
     "name": "stdout",
     "output_type": "stream",
     "text": [
      "End of tupple!\n",
      "tupple product is: 24\n"
     ]
    }
   ],
   "source": [
    "tup={1,2,3,4}\n",
    "pro=1\n",
    "for item in tup:\n",
    "    pro*=item\n",
    "else:\n",
    "    print(\"End of tupple!\")\n",
    "    \n",
    "print(\"tupple product is:\",pro)"
   ]
  },
  {
   "cell_type": "markdown",
   "id": "722bf05f",
   "metadata": {},
   "source": [
    "# Break and Continue\n",
    "\n",
    "break:teminate the entire loop\n",
    "\n",
    "contninue: skips the current iteration of the loop"
   ]
  },
  {
   "cell_type": "code",
   "execution_count": 9,
   "id": "c7fdee94",
   "metadata": {},
   "outputs": [
    {
     "name": "stdout",
     "output_type": "stream",
     "text": [
      "the count is 0\n",
      "the count is 1\n",
      "the count is 2\n",
      "the count is 3\n",
      "the count is 4\n",
      "bye ye\n"
     ]
    }
   ],
   "source": [
    "for count in range(10):\n",
    "    if(count==5):\n",
    "        break\n",
    "    print(\"the count is\",count)\n",
    "else: #else block will not run as there is break\n",
    "    print(\"End of count!\")\n",
    "print(\"bye ye\")"
   ]
  },
  {
   "cell_type": "code",
   "execution_count": 8,
   "id": "eadf6b01",
   "metadata": {},
   "outputs": [
    {
     "name": "stdout",
     "output_type": "stream",
     "text": [
      "the count is 0\n",
      "the count is 1\n",
      "the count is 2\n",
      "the count is 3\n",
      "the count is 4\n",
      "the count is 6\n",
      "the count is 7\n",
      "the count is 8\n",
      "the count is 9\n",
      "End of count!\n",
      "bye ye\n"
     ]
    }
   ],
   "source": [
    "for count in range(10):\n",
    "    if(count==5):\n",
    "        continue\n",
    "    print(\"the count is\",count)\n",
    "else:\n",
    "    print(\"End of count!\")\n",
    "print(\"bye ye\")"
   ]
  },
  {
   "cell_type": "code",
   "execution_count": null,
   "id": "d308cd01",
   "metadata": {},
   "outputs": [],
   "source": []
  }
 ],
 "metadata": {
  "kernelspec": {
   "display_name": "Python 3 (ipykernel)",
   "language": "python",
   "name": "python3"
  },
  "language_info": {
   "codemirror_mode": {
    "name": "ipython",
    "version": 3
   },
   "file_extension": ".py",
   "mimetype": "text/x-python",
   "name": "python",
   "nbconvert_exporter": "python",
   "pygments_lexer": "ipython3",
   "version": "3.10.9"
  }
 },
 "nbformat": 4,
 "nbformat_minor": 5
}
