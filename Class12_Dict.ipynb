{
 "cells": [
  {
   "cell_type": "markdown",
   "id": "7df95625",
   "metadata": {},
   "source": [
    "# Dictionary\n",
    "mutable, as hashtable unordered key-value pairs, unique keys, values may not be unique, use key instead of index, no slicing and idexing"
   ]
  },
  {
   "cell_type": "code",
   "execution_count": 7,
   "id": "596d4941",
   "metadata": {},
   "outputs": [
    {
     "name": "stdout",
     "output_type": "stream",
     "text": [
      "{1: 'abc', 2: 'cde', 'name': 'xyz'}\n",
      "<class 'dict'>\n"
     ]
    }
   ],
   "source": [
    "d={1:'abc', 2:'cde', 'name':'xyz'}\n",
    "print(d)\n",
    "print(type(d))"
   ]
  },
  {
   "cell_type": "code",
   "execution_count": 8,
   "id": "df36284a",
   "metadata": {},
   "outputs": [
    {
     "data": {
      "text/plain": [
       "'abc'"
      ]
     },
     "execution_count": 8,
     "metadata": {},
     "output_type": "execute_result"
    }
   ],
   "source": [
    "d[1]"
   ]
  },
  {
   "cell_type": "code",
   "execution_count": 10,
   "id": "2abcd389",
   "metadata": {},
   "outputs": [
    {
     "data": {
      "text/plain": [
       "'xyz'"
      ]
     },
     "execution_count": 10,
     "metadata": {},
     "output_type": "execute_result"
    }
   ],
   "source": [
    "d['name']"
   ]
  },
  {
   "cell_type": "code",
   "execution_count": 11,
   "id": "98c2ac36",
   "metadata": {},
   "outputs": [
    {
     "name": "stdout",
     "output_type": "stream",
     "text": [
      "{1: 'abc', 2: 'cde', 'name': 'xyz'}\n",
      "{1: 'abc', 2: 'cde', 'name': 'lmn', 4: 'sen'}\n"
     ]
    }
   ],
   "source": [
    "print(d)\n",
    "d['name']='lmn'\n",
    "d[4]='sen'\n",
    "print(d)"
   ]
  },
  {
   "cell_type": "code",
   "execution_count": 12,
   "id": "1f395985",
   "metadata": {},
   "outputs": [
    {
     "name": "stdout",
     "output_type": "stream",
     "text": [
      "{1: 'abc', 2: 'cde', 'name': 'lmn', 4: 'sen'}\n",
      "{1: 'abc', 2: 'cde', 'name': 'lmn'}\n"
     ]
    }
   ],
   "source": [
    "print(d)\n",
    "del d[4]\n",
    "print(d)"
   ]
  },
  {
   "cell_type": "code",
   "execution_count": 13,
   "id": "28573dc6",
   "metadata": {},
   "outputs": [
    {
     "name": "stdout",
     "output_type": "stream",
     "text": [
      "{}\n"
     ]
    }
   ],
   "source": [
    "d.clear()\n",
    "print(d)"
   ]
  },
  {
   "cell_type": "code",
   "execution_count": 14,
   "id": "93cfb678",
   "metadata": {},
   "outputs": [
    {
     "ename": "NameError",
     "evalue": "name 'd' is not defined",
     "output_type": "error",
     "traceback": [
      "\u001b[1;31m---------------------------------------------------------------------------\u001b[0m",
      "\u001b[1;31mNameError\u001b[0m                                 Traceback (most recent call last)",
      "Cell \u001b[1;32mIn[14], line 2\u001b[0m\n\u001b[0;32m      1\u001b[0m \u001b[38;5;28;01mdel\u001b[39;00m d\n\u001b[1;32m----> 2\u001b[0m \u001b[38;5;28mprint\u001b[39m(\u001b[43md\u001b[49m)\n",
      "\u001b[1;31mNameError\u001b[0m: name 'd' is not defined"
     ]
    }
   ],
   "source": [
    "del d\n",
    "print(d)"
   ]
  },
  {
   "cell_type": "code",
   "execution_count": 21,
   "id": "246d1778",
   "metadata": {
    "scrolled": true
   },
   "outputs": [
    {
     "name": "stdout",
     "output_type": "stream",
     "text": [
      "{1: 'abc', 2: 'cde', ('name',): 'xyz'}\n",
      "<class 'dict'>\n"
     ]
    }
   ],
   "source": [
    "d={1:'abc', 2:'cde', ('name',):'xyz'} #can have tuple but not list as list  is immutable\n",
    "print(d)\n",
    "print(type(d))"
   ]
  },
  {
   "cell_type": "code",
   "execution_count": 22,
   "id": "62c9708c",
   "metadata": {},
   "outputs": [
    {
     "data": {
      "text/plain": [
       "dict_keys([1, 2, ('name',)])"
      ]
     },
     "execution_count": 22,
     "metadata": {},
     "output_type": "execute_result"
    }
   ],
   "source": [
    "d.keys()"
   ]
  },
  {
   "cell_type": "code",
   "execution_count": 23,
   "id": "868df7e5",
   "metadata": {},
   "outputs": [
    {
     "data": {
      "text/plain": [
       "dict_values(['abc', 'cde', 'xyz'])"
      ]
     },
     "execution_count": 23,
     "metadata": {},
     "output_type": "execute_result"
    }
   ],
   "source": [
    "d.values()"
   ]
  },
  {
   "cell_type": "code",
   "execution_count": 24,
   "id": "0581ec35",
   "metadata": {},
   "outputs": [
    {
     "data": {
      "text/plain": [
       "dict_items([(1, 'abc'), (2, 'cde'), (('name',), 'xyz')])"
      ]
     },
     "execution_count": 24,
     "metadata": {},
     "output_type": "execute_result"
    }
   ],
   "source": [
    "d.items()"
   ]
  },
  {
   "cell_type": "markdown",
   "id": "d1b2cf0d",
   "metadata": {},
   "source": [
    "# Hands-on class \n",
    "Que 1. make dictionary of list and tupple"
   ]
  },
  {
   "cell_type": "code",
   "execution_count": 4,
   "id": "ce8da096",
   "metadata": {},
   "outputs": [
    {
     "name": "stdout",
     "output_type": "stream",
     "text": [
      "{1: 'a', 2: 'b'}\n"
     ]
    },
    {
     "data": {
      "text/plain": [
       "dict"
      ]
     },
     "execution_count": 4,
     "metadata": {},
     "output_type": "execute_result"
    }
   ],
   "source": [
    "d= dict([[1,'a'], [2,'b']])\n",
    "print(d)\n",
    "type(d)"
   ]
  },
  {
   "cell_type": "code",
   "execution_count": 7,
   "id": "a7963848",
   "metadata": {},
   "outputs": [
    {
     "name": "stdout",
     "output_type": "stream",
     "text": [
      "{1: 'a', 2: 'b'}\n"
     ]
    },
    {
     "data": {
      "text/plain": [
       "dict"
      ]
     },
     "execution_count": 7,
     "metadata": {},
     "output_type": "execute_result"
    }
   ],
   "source": [
    "d= dict(((1,'a'),(2,'b')))\n",
    "print(d)\n",
    "type(d)"
   ]
  },
  {
   "cell_type": "markdown",
   "id": "93f865df",
   "metadata": {},
   "source": [
    "Ques-2 Create a dictionary of list of students and teachers where student and teachers key will contain first name and last name of students and teachers\n",
    "\n",
    "students: Naruto Uzumaki, Sasuke Uchiha, Sakura Haruno\n",
    "\n",
    "teachers: Kakashi Hatake, Tsunade Senju\n",
    "\n",
    "eg: (students:[{\"firstName\":\"A\", lastName\":\"B}, {\"firstName\":\"C\", \"lassName\":\"D\"}]"
   ]
  },
  {
   "cell_type": "code",
   "execution_count": 17,
   "id": "68c0a508",
   "metadata": {},
   "outputs": [
    {
     "data": {
      "text/plain": [
       "{'student': [{'firstname': 'Naruto', 'lastname': 'Uzumaki'},\n",
       "  {'firstname': 'Sasuke', 'lastname': 'Uchiha'}],\n",
       " 'teachers': [{'firstname': 'Kakashi', 'lastname': 'Hatake'},\n",
       "  {'firstname': 'Tsunade', 'lastname': 'Senju'}]}"
      ]
     },
     "execution_count": 17,
     "metadata": {},
     "output_type": "execute_result"
    }
   ],
   "source": [
    "d= {\"student\":[{\"firstname\":\"Naruto\", \"lastname\":\"Uzumaki\"}, \n",
    "               {\"firstname\":\"Sasuke\", \"lastname\":\"Uchiha\"}],\n",
    "    \"teachers\": [{\"firstname\":\"Kakashi\", \"lastname\":\"Hatake\"}, \n",
    "                 {\"firstname\":\"Tsunade\", \"lastname\":\"Senju\"}]}\n",
    "d"
   ]
  },
  {
   "cell_type": "code",
   "execution_count": 18,
   "id": "896b684e",
   "metadata": {},
   "outputs": [
    {
     "data": {
      "text/plain": [
       "{'students': [{'firstname': 'Naruto', 'lastname': 'Uzumaki'},\n",
       "  {'firstname': 'Sasuke', 'lastname': 'Uchiha'}],\n",
       " 'teachers': [{'firstname': 'Kakashi', 'lastname': 'Hatake'},\n",
       "  {'firstname': 'Tsunade', 'lastname': 'Senju'}]}"
      ]
     },
     "execution_count": 18,
     "metadata": {},
     "output_type": "execute_result"
    }
   ],
   "source": [
    "d = dict(\n",
    "    students=[\n",
    "        {\"firstname\": \"Naruto\", \"lastname\": \"Uzumaki\"},\n",
    "        {\"firstname\": \"Sasuke\", \"lastname\": \"Uchiha\"}\n",
    "    ],\n",
    "    teachers=[\n",
    "        {\"firstname\": \"Kakashi\", \"lastname\": \"Hatake\"},\n",
    "        {\"firstname\": \"Tsunade\", \"lastname\": \"Senju\"}\n",
    "    ]\n",
    ")\n",
    "d"
   ]
  },
  {
   "cell_type": "code",
   "execution_count": 20,
   "id": "4883ac89",
   "metadata": {},
   "outputs": [
    {
     "data": {
      "text/plain": [
       "dict_values([[{'firstname': 'Naruto', 'lastname': 'Uzumaki'}, {'firstname': 'Sasuke', 'lastname': 'Uchiha'}], [{'firstname': 'Kakashi', 'lastname': 'Hatake'}, {'firstname': 'Tsunade', 'lastname': 'Senju'}]])"
      ]
     },
     "execution_count": 20,
     "metadata": {},
     "output_type": "execute_result"
    }
   ],
   "source": [
    "d.values()"
   ]
  },
  {
   "cell_type": "code",
   "execution_count": null,
   "id": "f3b26555",
   "metadata": {},
   "outputs": [],
   "source": []
  }
 ],
 "metadata": {
  "kernelspec": {
   "display_name": "Python 3 (ipykernel)",
   "language": "python",
   "name": "python3"
  },
  "language_info": {
   "codemirror_mode": {
    "name": "ipython",
    "version": 3
   },
   "file_extension": ".py",
   "mimetype": "text/x-python",
   "name": "python",
   "nbconvert_exporter": "python",
   "pygments_lexer": "ipython3",
   "version": "3.10.9"
  }
 },
 "nbformat": 4,
 "nbformat_minor": 5
}
