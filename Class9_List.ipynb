{
 "cells": [
  {
   "cell_type": "markdown",
   "id": "c1599463",
   "metadata": {},
   "source": [
    "\n",
    "# List "
   ]
  },
  {
   "cell_type": "markdown",
   "id": "2ee7119d",
   "metadata": {},
   "source": [
    "mix datatypes,\n",
    "mutable"
   ]
  },
  {
   "cell_type": "code",
   "execution_count": 14,
   "id": "60a82141",
   "metadata": {},
   "outputs": [],
   "source": [
    "# Method\tDescription\n",
    "# append()\tAdds an element at the end of the list\n",
    "# clear()\tRemoves all the elements from the list\n",
    "# copy()\tReturns a copy of the list\n",
    "# count()\tReturns the number of elements with the specified value\n",
    "# extend()\tAdd the elements of a list (or any iterable), to the end of the current list\n",
    "# index()\tReturns the index of the first element with the specified value\n",
    "# insert()\tAdds an element at the specified position\n",
    "# pop()\tRemoves the element at the specified position\n",
    "# remove()\tRemoves the first item with the specified value\n",
    "# reverse()\tReverses the order of the list\n",
    "# sort()\tSorts the list"
   ]
  },
  {
   "cell_type": "code",
   "execution_count": 2,
   "id": "c3084a76",
   "metadata": {},
   "outputs": [
    {
     "name": "stdout",
     "output_type": "stream",
     "text": [
      "<class 'list'>\n"
     ]
    }
   ],
   "source": [
    "l=[]\n",
    "print(type(l))"
   ]
  },
  {
   "cell_type": "code",
   "execution_count": 7,
   "id": "f53f8827",
   "metadata": {},
   "outputs": [
    {
     "name": "stdout",
     "output_type": "stream",
     "text": [
      "[10, 'hi', 20.2, True, 10, 'hi', 20.2, True]\n"
     ]
    }
   ],
   "source": [
    "\n",
    "l.append(10)\n",
    "l.append('hi')\n",
    "l.append(20.20)\n",
    "l.append(True)\n",
    "print(l)"
   ]
  },
  {
   "cell_type": "code",
   "execution_count": 9,
   "id": "d49b430f",
   "metadata": {},
   "outputs": [
    {
     "name": "stdout",
     "output_type": "stream",
     "text": [
      "['Shark', 'Cluter fish', 'Sea Horse', 'Squid', 'Whale']\n",
      "Shark\n",
      "Cluter fish\n",
      "Sea Horse\n",
      "********************\n",
      "Whale\n",
      "Squid\n",
      "['Shark', 'Octopus', 'Sea Horse', 'Squid', 'Whale']\n"
     ]
    },
    {
     "ename": "TypeError",
     "evalue": "'str' object does not support item assignment",
     "output_type": "error",
     "traceback": [
      "\u001b[1;31m---------------------------------------------------------------------------\u001b[0m",
      "\u001b[1;31mTypeError\u001b[0m                                 Traceback (most recent call last)",
      "Cell \u001b[1;32mIn[9], line 13\u001b[0m\n\u001b[0;32m     10\u001b[0m sea_creature[\u001b[38;5;241m1\u001b[39m]\u001b[38;5;241m=\u001b[39m\u001b[38;5;124m'\u001b[39m\u001b[38;5;124mOctopus\u001b[39m\u001b[38;5;124m'\u001b[39m\n\u001b[0;32m     11\u001b[0m \u001b[38;5;28mprint\u001b[39m(sea_creature)\n\u001b[1;32m---> 13\u001b[0m sea_creature[\u001b[38;5;241m2\u001b[39m][\u001b[38;5;241m0\u001b[39m]\u001b[38;5;241m=\u001b[39m\u001b[38;5;124m'\u001b[39m\u001b[38;5;124md\u001b[39m\u001b[38;5;124m'\u001b[39m\n\u001b[0;32m     14\u001b[0m \u001b[38;5;28mprint\u001b[39m(sea_creature)\n",
      "\u001b[1;31mTypeError\u001b[0m: 'str' object does not support item assignment"
     ]
    }
   ],
   "source": [
    "sea_creature=['Shark', 'Cluter fish', 'Sea Horse', 'Squid', 'Whale']\n",
    "print(sea_creature)\n",
    "print(sea_creature[0])\n",
    "print(sea_creature[1])\n",
    "print(sea_creature[2])\n",
    "print('*'*20)\n",
    "print(sea_creature[-1])\n",
    "print(sea_creature[-2])\n",
    "\n",
    "sea_creature[1]='Octopus'\n",
    "print(sea_creature)\n",
    "\n",
    "sea_creature[2][0]='d' #error as the string is immutable only list is mutable\n",
    "print(sea_creature)\n"
   ]
  },
  {
   "cell_type": "code",
   "execution_count": 13,
   "id": "0bbfbd23",
   "metadata": {},
   "outputs": [
    {
     "name": "stdout",
     "output_type": "stream",
     "text": [
      "[1, 2, 3, 4, 6, 6, 9]\n",
      "['Octopus', 'Sea Horse', 'Shark', 'Squid', 'Whale']\n"
     ]
    }
   ],
   "source": [
    "l=[3,6,2,9,1,4,6]\n",
    "l.sort()\n",
    "print(l)\n",
    "sea_creature.sort()\n",
    "print(sea_creature)"
   ]
  },
  {
   "cell_type": "code",
   "execution_count": 15,
   "id": "0e00e629",
   "metadata": {},
   "outputs": [
    {
     "name": "stdout",
     "output_type": "stream",
     "text": [
      "[1, 2, 3, 4, 5, 6]\n"
     ]
    }
   ],
   "source": [
    "l1=[1,2,3]\n",
    "l2=[4,5,6]\n",
    "l3=l1+l2\n",
    "print(l3)"
   ]
  },
  {
   "cell_type": "code",
   "execution_count": 3,
   "id": "6994da7a",
   "metadata": {},
   "outputs": [
    {
     "name": "stdout",
     "output_type": "stream",
     "text": [
      "yash, raj kumar, anshu gulzra,ravi\n",
      "<class 'str'>\n",
      "yash, raj kumar, anshu gulzra,ravi\n",
      "yash, raj kumar, anshu gulzra,ravi\n"
     ]
    }
   ],
   "source": [
    "#que take list of students name\n",
    "\n",
    "a=input()\n",
    "print(type(a))\n",
    "print(a)\n",
    "a.split(',')\n",
    "type(a)\n",
    "print(a)"
   ]
  },
  {
   "cell_type": "code",
   "execution_count": 2,
   "id": "32bf1ebb",
   "metadata": {},
   "outputs": [
    {
     "name": "stdout",
     "output_type": "stream",
     "text": [
      "<class 'list'>\n",
      "yash raj, sendrela gulzar, ravi kumar, shalini\n",
      "<class 'list'>\n",
      "['yash raj', ' sendrela gulzar', ' ravi kumar', ' shalini']\n"
     ]
    }
   ],
   "source": [
    "#input names and store it in list\n",
    "a=[]\n",
    "print(type(a))\n",
    "a=input().split(',')\n",
    "print(type(a))\n",
    "print(a)"
   ]
  },
  {
   "cell_type": "code",
   "execution_count": null,
   "id": "6c1f381a",
   "metadata": {},
   "outputs": [],
   "source": []
  }
 ],
 "metadata": {
  "kernelspec": {
   "display_name": "Python 3 (ipykernel)",
   "language": "python",
   "name": "python3"
  },
  "language_info": {
   "codemirror_mode": {
    "name": "ipython",
    "version": 3
   },
   "file_extension": ".py",
   "mimetype": "text/x-python",
   "name": "python",
   "nbconvert_exporter": "python",
   "pygments_lexer": "ipython3",
   "version": "3.10.9"
  }
 },
 "nbformat": 4,
 "nbformat_minor": 5
}
