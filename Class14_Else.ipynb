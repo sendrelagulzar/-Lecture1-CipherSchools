{
 "cells": [
  {
   "cell_type": "code",
   "execution_count": 1,
   "id": "41983335",
   "metadata": {},
   "outputs": [
    {
     "name": "stdout",
     "output_type": "stream",
     "text": [
      "Failing grade\n"
     ]
    }
   ],
   "source": [
    "grade = 60\n",
    "\n",
    "if grade >= 65 and grade<=100:\n",
    "    print (\"Passing grade of:\", end = '')\n",
    "    if grade >= 90: \n",
    "        print (\"A\")\n",
    "    elif grade >80: \n",
    "        print (\"B\")\n",
    "    elif grade >70: \n",
    "        print (\"C\")\n",
    "    elif grade >= 65:\n",
    "        print (\"D\")\n",
    "    elif grade>100: \n",
    "        print ('Invalid input')\n",
    "else:\n",
    "    print(\"Failing grade\")"
   ]
  },
  {
   "cell_type": "markdown",
   "id": "209e503c",
   "metadata": {},
   "source": [
    "# While loop"
   ]
  },
  {
   "cell_type": "code",
   "execution_count": 6,
   "id": "12a5026f",
   "metadata": {},
   "outputs": [
    {
     "name": "stdout",
     "output_type": "stream",
     "text": [
      "hi 0\n",
      "hi 1\n",
      "hi 2\n",
      "hi 3\n",
      "bye 4\n"
     ]
    }
   ],
   "source": [
    "i=0\n",
    "while i<=3:\n",
    "    print(\"hi\",i)\n",
    "    i+=1\n",
    "print(\"bye\", i)"
   ]
  },
  {
   "cell_type": "code",
   "execution_count": 10,
   "id": "13d6a882",
   "metadata": {},
   "outputs": [
    {
     "name": "stdout",
     "output_type": "stream",
     "text": [
      "Product = 120\n"
     ]
    }
   ],
   "source": [
    "tup= (1,2,3,4,5)\n",
    "\n",
    "prod = 1\n",
    "\n",
    "index=0\n",
    "\n",
    "while (index < len (tup)):\n",
    "\n",
    "    prod *= tup[index]\n",
    "\n",
    "    index += 1\n",
    "\n",
    "print('Product = {}'.format(prod))"
   ]
  },
  {
   "cell_type": "markdown",
   "id": "2fa72806",
   "metadata": {},
   "source": [
    "# While Else"
   ]
  },
  {
   "cell_type": "code",
   "execution_count": 11,
   "id": "03e6350c",
   "metadata": {},
   "outputs": [
    {
     "name": "stdout",
     "output_type": "stream",
     "text": [
      "no tuple left\n",
      "Product = 120\n"
     ]
    }
   ],
   "source": [
    "tup= (1,2,3,4,5)\n",
    "\n",
    "prod = 1\n",
    "\n",
    "index=0\n",
    "\n",
    "while (index < len (tup)):\n",
    "\n",
    "    prod *= tup[index]\n",
    "\n",
    "    index += 1\n",
    "    \n",
    "else:\n",
    "    print(\"no tuple left\")\n",
    "\n",
    "print('Product = {}'.format(prod))"
   ]
  },
  {
   "cell_type": "code",
   "execution_count": null,
   "id": "8e8f6e52",
   "metadata": {},
   "outputs": [],
   "source": []
  }
 ],
 "metadata": {
  "kernelspec": {
   "display_name": "Python 3 (ipykernel)",
   "language": "python",
   "name": "python3"
  },
  "language_info": {
   "codemirror_mode": {
    "name": "ipython",
    "version": 3
   },
   "file_extension": ".py",
   "mimetype": "text/x-python",
   "name": "python",
   "nbconvert_exporter": "python",
   "pygments_lexer": "ipython3",
   "version": "3.10.9"
  }
 },
 "nbformat": 4,
 "nbformat_minor": 5
}
